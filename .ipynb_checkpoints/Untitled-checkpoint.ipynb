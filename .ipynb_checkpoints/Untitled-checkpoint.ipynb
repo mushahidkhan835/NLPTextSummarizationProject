{
 "cells": [
  {
   "cell_type": "code",
   "execution_count": null,
   "id": "intermediate-banking",
   "metadata": {},
   "outputs": [],
   "source": []
  },
  {
   "cell_type": "code",
   "execution_count": 1,
   "id": "complicated-tourist",
   "metadata": {
    "scrolled": true
   },
   "outputs": [
    {
     "name": "stderr",
     "output_type": "stream",
     "text": [
      "[nltk_data] Downloading package stopwords to\n",
      "[nltk_data]     /Users/mushahid/nltk_data...\n",
      "[nltk_data]   Package stopwords is already up-to-date!\n",
      "/Users/mushahid/opt/anaconda3/lib/python3.8/site-packages/pandas/plotting/_matplotlib/tools.py:400: MatplotlibDeprecationWarning: \n",
      "The is_first_col function was deprecated in Matplotlib 3.4 and will be removed two minor releases later. Use ax.get_subplotspec().is_first_col() instead.\n",
      "  if ax.is_first_col():\n"
     ]
    },
    {
     "data": {
      "image/png": "[encoded data removed]",
      "text/plain": [
       "<Figure size 432x288 with 2 Axes>"
      ]
     },
     "metadata": {
      "needs_background": "light"
     },
     "output_type": "display_data"
    },
    {
     "name": "stdout",
     "output_type": "stream",
     "text": [
      "0.9959550561797753\n",
      "0.9487640449438203\n",
      "% of rare words in vocabulary: 59.31487179487179\n",
      "Total Coverage of rare words: 90.80615384615385\n",
      "% of rare words in vocabulary: 61.16097560975609\n",
      "Total Coverage of rare words: 93.33414634146342\n",
      "9918\n",
      "15925\n"
     ]
    },
    {
     "ename": "AttributeError",
     "evalue": "'TextSummarizationModel' object has no attribute 'encoderInput'",
     "output_type": "error",
     "traceback": [
      "\u001b[0;31m---------------------------------------------------------------------------\u001b[0m",
      "\u001b[0;31mAttributeError\u001b[0m                            Traceback (most recent call last)",
      "\u001b[0;32m<ipython-input-1-c4cb9aad9af7>\u001b[0m in \u001b[0;36m<module>\u001b[0;34m\u001b[0m\n\u001b[1;32m      1\u001b[0m \u001b[0;32mfrom\u001b[0m  \u001b[0msummaryGenerator\u001b[0m \u001b[0;32mimport\u001b[0m \u001b[0mmain\u001b[0m\u001b[0;34m\u001b[0m\u001b[0;34m\u001b[0m\u001b[0m\n\u001b[0;32m----> 2\u001b[0;31m \u001b[0ma\u001b[0m \u001b[0;34m=\u001b[0m \u001b[0mmain\u001b[0m\u001b[0;34m(\u001b[0m\u001b[0;34m)\u001b[0m\u001b[0;34m\u001b[0m\u001b[0;34m\u001b[0m\u001b[0m\n\u001b[0m",
      "\u001b[0;32m~/Documents/Notes/nlp/summaryGenerator.py\u001b[0m in \u001b[0;36mmain\u001b[0;34m()\u001b[0m\n\u001b[1;32m    246\u001b[0m     \u001b[0mprint\u001b[0m\u001b[0;34m(\u001b[0m\u001b[0msummaryGeneratorClass\u001b[0m\u001b[0;34m.\u001b[0m\u001b[0mxVocabularySize\u001b[0m\u001b[0;34m)\u001b[0m\u001b[0;34m\u001b[0m\u001b[0;34m\u001b[0m\u001b[0m\n\u001b[1;32m    247\u001b[0m     \u001b[0mprint\u001b[0m\u001b[0;34m(\u001b[0m\u001b[0msummaryGeneratorClass\u001b[0m\u001b[0;34m.\u001b[0m\u001b[0myVocabularySize\u001b[0m\u001b[0;34m)\u001b[0m\u001b[0;34m\u001b[0m\u001b[0;34m\u001b[0m\u001b[0m\n\u001b[0;32m--> 248\u001b[0;31m     \u001b[0mmodel\u001b[0m \u001b[0;34m=\u001b[0m \u001b[0mTextSummarizationModel\u001b[0m\u001b[0;34m(\u001b[0m\u001b[0msummaryGeneratorClass\u001b[0m\u001b[0;34m.\u001b[0m\u001b[0mxTrainSeq\u001b[0m\u001b[0;34m,\u001b[0m \u001b[0msummaryGeneratorClass\u001b[0m\u001b[0;34m.\u001b[0m\u001b[0myTrainSeq\u001b[0m\u001b[0;34m,\u001b[0m \u001b[0msummaryGeneratorClass\u001b[0m\u001b[0;34m.\u001b[0m\u001b[0mxValSeq\u001b[0m\u001b[0;34m,\u001b[0m \u001b[0msummaryGeneratorClass\u001b[0m\u001b[0;34m.\u001b[0m\u001b[0myValSeq\u001b[0m\u001b[0;34m,\u001b[0m \u001b[0msummaryGeneratorClass\u001b[0m\u001b[0;34m.\u001b[0m\u001b[0mxVocabularySize\u001b[0m\u001b[0;34m,\u001b[0m \u001b[0msummaryGeneratorClass\u001b[0m\u001b[0;34m.\u001b[0m\u001b[0myVocabularySize\u001b[0m\u001b[0;34m,\u001b[0m\u001b[0msummaryGeneratorClass\u001b[0m\u001b[0;34m.\u001b[0m\u001b[0mmaxTextLen\u001b[0m\u001b[0;34m,\u001b[0m \u001b[0msummaryGeneratorClass\u001b[0m\u001b[0;34m.\u001b[0m\u001b[0mtokenizerX\u001b[0m\u001b[0;34m,\u001b[0m \u001b[0msummaryGeneratorClass\u001b[0m\u001b[0;34m.\u001b[0m\u001b[0mtokenizerY\u001b[0m\u001b[0;34m)\u001b[0m\u001b[0;34m\u001b[0m\u001b[0;34m\u001b[0m\u001b[0m\n\u001b[0m\u001b[1;32m    249\u001b[0m \u001b[0;34m\u001b[0m\u001b[0m\n\u001b[1;32m    250\u001b[0m     \u001b[0;32mfor\u001b[0m \u001b[0mi\u001b[0m \u001b[0;32min\u001b[0m \u001b[0mrange\u001b[0m\u001b[0;34m(\u001b[0m\u001b[0;36m0\u001b[0m\u001b[0;34m,\u001b[0m \u001b[0;36m10\u001b[0m\u001b[0;34m)\u001b[0m\u001b[0;34m:\u001b[0m\u001b[0;34m\u001b[0m\u001b[0;34m\u001b[0m\u001b[0m\n",
      "\u001b[0;32m~/Documents/Notes/nlp/textSummarizationModel.py\u001b[0m in \u001b[0;36m__init__\u001b[0;34m(self, xTrain, yTrain, xVal, yVal, xVocabSize, yVocabSize, maxTextLen, tokenizerX, tokenizerY)\u001b[0m\n\u001b[1;32m     18\u001b[0m         \u001b[0mself\u001b[0m\u001b[0;34m.\u001b[0m\u001b[0mmodel\u001b[0m \u001b[0;34m=\u001b[0m \u001b[0mself\u001b[0m\u001b[0;34m.\u001b[0m\u001b[0mgetModel\u001b[0m\u001b[0;34m(\u001b[0m\u001b[0mxTrain\u001b[0m\u001b[0;34m,\u001b[0m \u001b[0myTrain\u001b[0m\u001b[0;34m,\u001b[0m \u001b[0mxVal\u001b[0m\u001b[0;34m,\u001b[0m \u001b[0myVal\u001b[0m\u001b[0;34m,\u001b[0m \u001b[0mxVocabSize\u001b[0m\u001b[0;34m,\u001b[0m \u001b[0myVocabSize\u001b[0m\u001b[0;34m,\u001b[0m \u001b[0mmaxTextLen\u001b[0m\u001b[0;34m)\u001b[0m\u001b[0;34m\u001b[0m\u001b[0;34m\u001b[0m\u001b[0m\n\u001b[1;32m     19\u001b[0m         \u001b[0mself\u001b[0m\u001b[0;34m.\u001b[0m\u001b[0mbuildDictinaryToConvertIndexToWord\u001b[0m\u001b[0;34m(\u001b[0m\u001b[0mtokenizerX\u001b[0m\u001b[0;34m,\u001b[0m \u001b[0mtokenizerY\u001b[0m\u001b[0;34m)\u001b[0m\u001b[0;34m\u001b[0m\u001b[0;34m\u001b[0m\u001b[0m\n\u001b[0;32m---> 20\u001b[0;31m         \u001b[0mself\u001b[0m\u001b[0;34m.\u001b[0m\u001b[0mbuildInferenceForEncoderDecoder\u001b[0m\u001b[0;34m(\u001b[0m\u001b[0;34m)\u001b[0m\u001b[0;34m\u001b[0m\u001b[0;34m\u001b[0m\u001b[0m\n\u001b[0m\u001b[1;32m     21\u001b[0m \u001b[0;34m\u001b[0m\u001b[0m\n\u001b[1;32m     22\u001b[0m     \u001b[0;32mdef\u001b[0m \u001b[0mdrawModelFromTraining\u001b[0m\u001b[0;34m(\u001b[0m\u001b[0mself\u001b[0m\u001b[0;34m)\u001b[0m\u001b[0;34m:\u001b[0m\u001b[0;34m\u001b[0m\u001b[0;34m\u001b[0m\u001b[0m\n",
      "\u001b[0;32m~/Documents/Notes/nlp/textSummarizationModel.py\u001b[0m in \u001b[0;36mbuildInferenceForEncoderDecoder\u001b[0;34m(self)\u001b[0m\n\u001b[1;32m     70\u001b[0m \u001b[0;34m\u001b[0m\u001b[0m\n\u001b[1;32m     71\u001b[0m     \u001b[0;32mdef\u001b[0m \u001b[0mbuildInferenceForEncoderDecoder\u001b[0m\u001b[0;34m(\u001b[0m\u001b[0mself\u001b[0m\u001b[0;34m)\u001b[0m\u001b[0;34m:\u001b[0m\u001b[0;34m\u001b[0m\u001b[0;34m\u001b[0m\u001b[0m\n\u001b[0;32m---> 72\u001b[0;31m         \u001b[0mself\u001b[0m\u001b[0;34m.\u001b[0m\u001b[0mencoderModel\u001b[0m \u001b[0;34m=\u001b[0m \u001b[0mModel\u001b[0m\u001b[0;34m(\u001b[0m\u001b[0minputs\u001b[0m\u001b[0;34m=\u001b[0m\u001b[0mself\u001b[0m\u001b[0;34m.\u001b[0m\u001b[0mencoderInput\u001b[0m\u001b[0;34m,\u001b[0m\u001b[0moutputs\u001b[0m\u001b[0;34m=\u001b[0m\u001b[0;34m[\u001b[0m\u001b[0mself\u001b[0m\u001b[0;34m.\u001b[0m\u001b[0mencoderOutput\u001b[0m\u001b[0;34m,\u001b[0m \u001b[0mself\u001b[0m\u001b[0;34m.\u001b[0m\u001b[0mstateH\u001b[0m\u001b[0;34m,\u001b[0m \u001b[0mself\u001b[0m\u001b[0;34m.\u001b[0m\u001b[0mstateC\u001b[0m\u001b[0;34m]\u001b[0m\u001b[0;34m)\u001b[0m\u001b[0;34m\u001b[0m\u001b[0;34m\u001b[0m\u001b[0m\n\u001b[0m\u001b[1;32m     73\u001b[0m \u001b[0;34m\u001b[0m\u001b[0m\n\u001b[1;32m     74\u001b[0m         \u001b[0;31m# Decoder setup\u001b[0m\u001b[0;34m\u001b[0m\u001b[0;34m\u001b[0m\u001b[0;34m\u001b[0m\u001b[0m\n",
      "\u001b[0;31mAttributeError\u001b[0m: 'TextSummarizationModel' object has no attribute 'encoderInput'"
     ]
    }
   ],
   "source": [
    "from  summaryGenerator import main\n",
    "a = main()\n"
   ]
  },
  {
   "cell_type": "code",
   "execution_count": null,
   "id": "arctic-defeat",
   "metadata": {},
   "outputs": [],
   "source": [
    "indices[84,85] = 18091 is not in [0, 15925)"
   ]
  },
  {
   "cell_type": "raw",
   "id": "middle-compatibility",
   "metadata": {},
   "source": [
    "import Path\n",
    "my_file = Path(\"/textSumamrizationModel.h5\")\n",
    "if my_file.is_file(): \n",
    "    print(\"YES\")"
   ]
  },
  {
   "cell_type": "code",
   "execution_count": 5,
   "id": "tough-prediction",
   "metadata": {},
   "outputs": [
    {
     "data": {
      "text/plain": [
       "True"
      ]
     },
     "execution_count": 5,
     "metadata": {},
     "output_type": "execute_result"
    }
   ],
   "source": [
    "from pathlib import Path\n",
    "my_file = Path(\"./textSumamrizationModel.h5\")\n",
    "my_file.is_file()"
   ]
  },
  {
   "cell_type": "code",
   "execution_count": null,
   "id": "overall-burning",
   "metadata": {},
   "outputs": [],
   "source": []
  },
  {
   "cell_type": "code",
   "execution_count": 7,
   "id": "whole-cornell",
   "metadata": {},
   "outputs": [],
   "source": [
    "import numpy as np\n",
    "textArray = np.array(a.df['Summary'])\n",
    "\n"
   ]
  },
  {
   "cell_type": "code",
   "execution_count": 8,
   "id": "advisory-cameroon",
   "metadata": {},
   "outputs": [
    {
     "data": {
      "text/plain": [
       "'_START_ despite positive news export sector worrying signs manufacturing bcc said bcc found confidence increased quarter across manufacturing service sectors although overall failed reach levels start outlook service sector uncertain despite increase exports orders quarter bcc noted manufacturing sector continue face serious challenges next two years british chamber commerce bcc said however bcc found whole economy still faced major risks warned growth set slow reduced threat interest rate increases contributed improved confidence said rise came despite exchange rates cited major concern _END_'"
      ]
     },
     "execution_count": 8,
     "metadata": {},
     "output_type": "execute_result"
    }
   ],
   "source": [
    "textArray[0]"
   ]
  },
  {
   "cell_type": "code",
   "execution_count": null,
   "id": "equal-badge",
   "metadata": {},
   "outputs": [],
   "source": []
  }
 ],
 "metadata": {
  "kernelspec": {
   "display_name": "Python 3",
   "language": "python",
   "name": "python3"
  }
 },
 "nbformat": 4,
 "nbformat_minor": 5
}
